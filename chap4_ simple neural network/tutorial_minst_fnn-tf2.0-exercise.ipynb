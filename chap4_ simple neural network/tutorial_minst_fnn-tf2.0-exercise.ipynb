{
 "cells": [
  {
   "cell_type": "markdown",
   "metadata": {},
   "source": [
    "## 准备数据"
   ]
  },
  {
   "cell_type": "code",
   "execution_count": 1,
   "metadata": {},
   "outputs": [],
   "source": [
    "import os\n",
    "import numpy as np\n",
    "import tensorflow as tf\n",
    "from tensorflow import keras\n",
    "from tensorflow.keras import layers, optimizers, datasets\n",
    "\n",
    "os.environ['TF_CPP_MIN_LOG_LEVEL'] = '2'  # or any {'0', '1', '2'}\n",
    "\n",
    "def mnist_dataset():\n",
    "    (x, y), (x_test, y_test) = datasets.mnist.load_data()\n",
    "    #normalize\n",
    "    x = x/255.0\n",
    "    x_test = x_test/255.0\n",
    "    \n",
    "    return (x, y), (x_test, y_test)"
   ]
  },
  {
   "cell_type": "code",
   "execution_count": 2,
   "metadata": {},
   "outputs": [
    {
     "name": "stdout",
     "output_type": "stream",
     "text": [
      "[(1, 'a'), (2, 'b'), (3, 'c'), (4, 'd')]\n"
     ]
    }
   ],
   "source": [
    "print(list(zip([1, 2, 3, 4], ['a', 'b', 'c', 'd'])))"
   ]
  },
  {
   "cell_type": "markdown",
   "metadata": {},
   "source": [
    "## 建立模型"
   ]
  },
  {
   "cell_type": "code",
   "execution_count": 3,
   "metadata": {},
   "outputs": [],
   "source": [
    "class myModel:\n",
    "    def __init__(self):\n",
    "        ####################\n",
    "        '''声明模型对应的参数'''\n",
    "        ####################\n",
    "        self.W1 = tf.Variable(tf.random.normal(shape=[28*28,100])) # 784->100\n",
    "        self.W2 = tf.Variable(tf.random.normal(shape=[100,10])) # 100->10\n",
    "        self.b1 = tf.Variable(tf.random.normal(shape=[100]))\n",
    "        self.b2 = tf.Variable(tf.random.normal(shape=[10]))\n",
    "    def __call__(self, x):\n",
    "        ####################\n",
    "        '''实现模型函数体，返回未归一化的logits'''\n",
    "        ####################\n",
    "        x = tf.reshape(x,[-1,28*28])\n",
    "        h1 = tf.matmul(x,self.W1) + self.b1\n",
    "        h1_relu = tf.nn.relu(h1)\n",
    "        logits = tf.matmul(h1_relu, self.W2) + self.b2\n",
    "        return logits\n",
    "        \n",
    "model = myModel()\n",
    "\n",
    "optimizer = optimizers.Adam()"
   ]
  },
  {
   "cell_type": "markdown",
   "metadata": {},
   "source": [
    "## 计算 loss"
   ]
  },
  {
   "cell_type": "code",
   "execution_count": 4,
   "metadata": {},
   "outputs": [],
   "source": [
    "@tf.function\n",
    "def compute_loss(logits, labels):\n",
    "    return tf.reduce_mean(\n",
    "        tf.nn.sparse_softmax_cross_entropy_with_logits(\n",
    "            logits=logits, labels=labels))\n",
    "\n",
    "@tf.function\n",
    "def compute_accuracy(logits, labels):\n",
    "    predictions = tf.argmax(logits, axis=1)\n",
    "    return tf.reduce_mean(tf.cast(tf.equal(predictions, labels), tf.float32))\n",
    "\n",
    "@tf.function\n",
    "def train_one_step(model, optimizer, x, y):\n",
    "    with tf.GradientTape() as tape:\n",
    "        logits = model(x)\n",
    "        loss = compute_loss(logits, y)\n",
    "\n",
    "    # compute gradient\n",
    "    trainable_vars = [model.W1, model.W2, model.b1, model.b2]\n",
    "    grads = tape.gradient(loss, trainable_vars)\n",
    "    for g, v in zip(grads, trainable_vars):\n",
    "        v.assign_sub(0.01*g)\n",
    "\n",
    "    accuracy = compute_accuracy(logits, y)\n",
    "\n",
    "    # loss and accuracy is scalar tensor\n",
    "    return loss, accuracy\n",
    "\n",
    "@tf.function\n",
    "def test(model, x, y):\n",
    "    logits = model(x)\n",
    "    loss = compute_loss(logits, y)\n",
    "    accuracy = compute_accuracy(logits, y)\n",
    "    return loss, accuracy"
   ]
  },
  {
   "cell_type": "markdown",
   "metadata": {},
   "source": [
    "## 实际训练"
   ]
  },
  {
   "cell_type": "code",
   "execution_count": 5,
   "metadata": {},
   "outputs": [
    {
     "name": "stdout",
     "output_type": "stream",
     "text": [
      "epoch 0 : loss 118.97848 ; accuracy 0.06915\n",
      "epoch 1 : loss 106.56913 ; accuracy 0.06016667\n",
      "epoch 2 : loss 98.58754 ; accuracy 0.057666667\n",
      "epoch 3 : loss 92.89132 ; accuracy 0.05655\n",
      "epoch 4 : loss 88.447136 ; accuracy 0.05733333\n",
      "epoch 5 : loss 84.80898 ; accuracy 0.05945\n",
      "epoch 6 : loss 81.72373 ; accuracy 0.061516665\n",
      "epoch 7 : loss 79.04425 ; accuracy 0.06413333\n",
      "epoch 8 : loss 76.672844 ; accuracy 0.06696667\n",
      "epoch 9 : loss 74.54055 ; accuracy 0.07046667\n",
      "epoch 10 : loss 72.59937 ; accuracy 0.07436667\n",
      "epoch 11 : loss 70.812614 ; accuracy 0.07756667\n",
      "epoch 12 : loss 69.15292 ; accuracy 0.081533335\n",
      "epoch 13 : loss 67.5991 ; accuracy 0.08523333\n",
      "epoch 14 : loss 66.13425 ; accuracy 0.08923333\n",
      "epoch 15 : loss 64.745445 ; accuracy 0.0935\n",
      "epoch 16 : loss 63.421734 ; accuracy 0.09746667\n",
      "epoch 17 : loss 62.154182 ; accuracy 0.1018\n",
      "epoch 18 : loss 60.93714 ; accuracy 0.10598333\n",
      "epoch 19 : loss 59.764366 ; accuracy 0.11046667\n",
      "epoch 20 : loss 58.631935 ; accuracy 0.114816666\n",
      "epoch 21 : loss 57.536808 ; accuracy 0.119216666\n",
      "epoch 22 : loss 56.47603 ; accuracy 0.1235\n",
      "epoch 23 : loss 55.446983 ; accuracy 0.12793334\n",
      "epoch 24 : loss 54.448048 ; accuracy 0.13243334\n",
      "epoch 25 : loss 53.477818 ; accuracy 0.1372\n",
      "epoch 26 : loss 52.534782 ; accuracy 0.14225\n",
      "epoch 27 : loss 51.61754 ; accuracy 0.1471\n",
      "epoch 28 : loss 50.724907 ; accuracy 0.15143333\n",
      "epoch 29 : loss 49.85688 ; accuracy 0.15651667\n",
      "epoch 30 : loss 49.012825 ; accuracy 0.1612\n",
      "epoch 31 : loss 48.191833 ; accuracy 0.1662\n",
      "epoch 32 : loss 47.39326 ; accuracy 0.17126666\n",
      "epoch 33 : loss 46.61625 ; accuracy 0.17588334\n",
      "epoch 34 : loss 45.859756 ; accuracy 0.18051666\n",
      "epoch 35 : loss 45.1228 ; accuracy 0.18493333\n",
      "epoch 36 : loss 44.404606 ; accuracy 0.18953334\n",
      "epoch 37 : loss 43.704784 ; accuracy 0.19446667\n",
      "epoch 38 : loss 43.02311 ; accuracy 0.19911666\n",
      "epoch 39 : loss 42.35931 ; accuracy 0.20388333\n",
      "epoch 40 : loss 41.71302 ; accuracy 0.20891666\n",
      "epoch 41 : loss 41.08394 ; accuracy 0.2139\n",
      "epoch 42 : loss 40.471367 ; accuracy 0.21876666\n",
      "epoch 43 : loss 39.874535 ; accuracy 0.223\n",
      "epoch 44 : loss 39.292793 ; accuracy 0.22725\n",
      "epoch 45 : loss 38.725716 ; accuracy 0.23173334\n",
      "epoch 46 : loss 38.17284 ; accuracy 0.23618333\n",
      "epoch 47 : loss 37.63397 ; accuracy 0.241\n",
      "epoch 48 : loss 37.10865 ; accuracy 0.24555\n",
      "epoch 49 : loss 36.59629 ; accuracy 0.25011668\n",
      "test loss 36.60807 ; accuracy 0.251\n"
     ]
    }
   ],
   "source": [
    "train_data, test_data = mnist_dataset()\n",
    "for epoch in range(50):\n",
    "    loss, accuracy = train_one_step(model, optimizer, \n",
    "                                    tf.constant(train_data[0], dtype=tf.float32), \n",
    "                                    tf.constant(train_data[1], dtype=tf.int64))\n",
    "    print('epoch', epoch, ': loss', loss.numpy(), '; accuracy', accuracy.numpy())\n",
    "loss, accuracy = test(model, \n",
    "                      tf.constant(test_data[0], dtype=tf.float32), \n",
    "                      tf.constant(test_data[1], dtype=tf.int64))\n",
    "\n",
    "print('test loss', loss.numpy(), '; accuracy', accuracy.numpy())"
   ]
  },
  {
   "cell_type": "code",
   "execution_count": null,
   "metadata": {},
   "outputs": [],
   "source": []
  }
 ],
 "metadata": {
  "kernelspec": {
   "display_name": "env20240311",
   "language": "python",
   "name": "python3"
  },
  "language_info": {
   "codemirror_mode": {
    "name": "ipython",
    "version": 3
   },
   "file_extension": ".py",
   "mimetype": "text/x-python",
   "name": "python",
   "nbconvert_exporter": "python",
   "pygments_lexer": "ipython3",
   "version": "3.11.9"
  }
 },
 "nbformat": 4,
 "nbformat_minor": 2
}
